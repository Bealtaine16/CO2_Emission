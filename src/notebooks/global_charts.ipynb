{
 "cells": [
  {
   "cell_type": "code",
   "execution_count": 1,
   "metadata": {},
   "outputs": [],
   "source": [
    "import os\n",
    "import glob\n",
    "import pandas as pd\n",
    "\n",
    "from src.visualization.charts import GlobalModelCharts, GlobalModelVariantsComparisonCharts\n",
    "from src.config import Config"
   ]
  },
  {
   "cell_type": "markdown",
   "metadata": {},
   "source": [
    "1. For comparison"
   ]
  },
  {
   "cell_type": "code",
   "execution_count": 2,
   "metadata": {},
   "outputs": [
    {
     "name": "stderr",
     "output_type": "stream",
     "text": [
      "/var/folders/rr/wwj3830d6bng6q6lhqs55ydr0000gn/T/ipykernel_77971/1442875746.py:9: DeprecationWarning: DataFrameGroupBy.apply operated on the grouping columns. This behavior is deprecated, and in a future version of pandas the grouping columns will be excluded from the operation. Either pass `include_groups=False` to exclude the groupings or explicitly select the grouping columns after groupby to silence this warning.\n",
      "  return df.groupby(\"country\", group_keys=False).apply(fill_group)\n",
      "/var/folders/rr/wwj3830d6bng6q6lhqs55ydr0000gn/T/ipykernel_77971/1442875746.py:9: DeprecationWarning: DataFrameGroupBy.apply operated on the grouping columns. This behavior is deprecated, and in a future version of pandas the grouping columns will be excluded from the operation. Either pass `include_groups=False` to exclude the groupings or explicitly select the grouping columns after groupby to silence this warning.\n",
      "  return df.groupby(\"country\", group_keys=False).apply(fill_group)\n"
     ]
    }
   ],
   "source": [
    "def fill_group(group):\n",
    "    basic_val = group.loc[group[\"Model\"].str.lower() == \"basic\", \"record_count\"]\n",
    "    if not basic_val.empty and pd.notnull(basic_val.iloc[0]):\n",
    "        group[\"record_count\"] = group[\"record_count\"].fillna(basic_val.iloc[0])\n",
    "    return group\n",
    "\n",
    "def fill_record_count_by_country(df):\n",
    "    df[\"record_count\"] = pd.to_numeric(df[\"record_count\"], errors='coerce')\n",
    "    return df.groupby(\"country\", group_keys=False).apply(fill_group)\n",
    "\n",
    "def process_and_save(dfs, output_filename):\n",
    "    df_combined = pd.concat(dfs, ignore_index=True)\n",
    "    df_combined = fill_record_count_by_country(df_combined)\n",
    "    \n",
    "    sort_order = {\n",
    "        \"basic\": 1,\n",
    "        \"arimax\": 2,\n",
    "        \"arimax_pca\": 3,\n",
    "        \"lightgbm\": 4,\n",
    "        \"lstm\": 5,\n",
    "        \"arimax_lstm\": 6,\n",
    "        \"arimax_pca_lstm\": 7,\n",
    "        \"lightgbm_lstm\": 8,\n",
    "        \"lightgbm_pca_lstm\": 9\n",
    "    }\n",
    "    df_combined[\"sort_order\"] = df_combined[\"Model\"].map(sort_order)\n",
    "    df_combined[\"sort_order\"] = df_combined[\"sort_order\"].fillna(99)\n",
    "    \n",
    "    df_combined = df_combined.sort_values(by=[\"country\", \"sort_order\"])\n",
    "    df_combined = df_combined.drop(columns=[\"sort_order\"])\n",
    "    \n",
    "    df_combined = df_combined[[\"country\", \"record_count\", \"MAE\", \"MAPE\", \"RMSE\", \"R2\", \"Model\"]]\n",
    "    df_combined.to_csv(output_filename, index=False)\n",
    "\n",
    "    return df_combined\n",
    "\n",
    "base_dir = \"../../output/metrics\"\n",
    "dfs_co2 = []\n",
    "dfs_co2_pc = []\n",
    "\n",
    "for model_folder in os.listdir(base_dir):\n",
    "    folder_path = os.path.join(base_dir, model_folder)\n",
    "    if not os.path.isdir(folder_path):\n",
    "        continue\n",
    "\n",
    "    csv_files = glob.glob(os.path.join(folder_path, \"*.csv\"))\n",
    "    \n",
    "    for csv_file in csv_files:\n",
    "        filename = os.path.basename(csv_file).lower()\n",
    "        \n",
    "        if \"test\" in filename and \"per_capita\" not in filename:\n",
    "            metric_type = \"co2\"\n",
    "        elif \"test\" in filename and \"co2_per_capita\" in filename:\n",
    "            metric_type = \"co2_per_capita\"\n",
    "        else:\n",
    "            continue \n",
    "\n",
    "        model_name = \"\"\n",
    "        folder_lower = model_folder.lower()\n",
    "        if folder_lower == \"arimax\":\n",
    "            model_name = \"arimax\" if \"pca\" not in filename else \"arimax_pca\"\n",
    "        elif folder_lower == \"hybrid\":\n",
    "            if \"arimax\" in filename:\n",
    "                model_name = \"arimax_lstm\" if \"pca\" not in filename else \"arimax_pca_lstm\"\n",
    "            elif \"lightgbm\" in filename:\n",
    "                model_name = \"lightgbm_lstm\" if \"pca\" not in filename else \"lightgbm_pca_lstm\"\n",
    "        elif folder_lower == \"lightgbm\":\n",
    "            model_name = \"lightgbm\"\n",
    "        elif folder_lower == \"lstm\":\n",
    "            model_name = \"lstm\"\n",
    "        elif folder_lower == \"basic\":\n",
    "            model_name = \"basic\"\n",
    "        else:\n",
    "            model_name = folder_lower\n",
    "\n",
    "        df = pd.read_csv(csv_file)\n",
    "        df[\"Model\"] = model_name\n",
    "        \n",
    "        if metric_type == \"co2\":\n",
    "            dfs_co2.append(df)\n",
    "        else:\n",
    "            dfs_co2_pc.append(df)\n",
    "\n",
    "basic_present_in_co2_pc = any(df[\"Model\"].str.lower().eq(\"basic\").any() for df in dfs_co2_pc)\n",
    "if not basic_present_in_co2_pc:\n",
    "    basic_dfs = [df for df in dfs_co2 if df[\"Model\"].str.lower().eq(\"basic\").any()]\n",
    "    if basic_dfs:\n",
    "        df_basic = pd.concat(basic_dfs, ignore_index=True)\n",
    "        df_basic[\"variant\"] = \"co2_per_capita\"\n",
    "        dfs_co2_pc.append(df_basic)\n",
    "\n",
    "df_co2 = process_and_save(dfs_co2, \"../../output/metrics/combined_co2_test_metrics.csv\")\n",
    "df_co2_pc = process_and_save(dfs_co2_pc, \"../../output/metrics/combined_co2_per_capita_test_metrics.csv\")\n",
    "\n",
    "df_co2['MAPE'] = df_co2['MAPE'].str.rstrip('%').astype(float) / 100.0\n",
    "df_co2_pc['MAPE'] = df_co2_pc['MAPE'].str.rstrip('%').astype(float) / 100.0\n",
    "\n",
    "metrics = ['MAE', 'RMSE', 'R2']\n",
    "for col in metrics:\n",
    "    df_co2[col] = df_co2[col].astype(str).str.replace(',', '').astype(float)\n",
    "    df_co2_pc[col] = df_co2_pc[col].astype(str).str.replace(',', '').astype(float)\n",
    "\n",
    "df_co2['variant'] = 'co2'\n",
    "df_co2_pc['variant'] = 'co2_per_capita'\n",
    "\n",
    "df_merged = pd.concat([df_co2, df_co2_pc], ignore_index=True)\n",
    "\n",
    "df_countries = df_merged[df_merged['country'] != 'Overall']\n",
    "df_overall = df_merged[df_merged['country'] == 'Overall']\n"
   ]
  },
  {
   "cell_type": "markdown",
   "metadata": {},
   "source": [
    "2. co2"
   ]
  },
  {
   "cell_type": "code",
   "execution_count": 3,
   "metadata": {},
   "outputs": [],
   "source": [
    "config = Config()\n",
    "\n",
    "variant = 'co2'\n",
    "combined_csv_path = os.path.join(config.predictions, f'combined_results_{variant}.csv')\n",
    "combined_df = pd.read_csv(combined_csv_path)\n",
    "\n",
    "output_dir = os.path.join(config.predictions, variant)\n",
    "charts = GlobalModelCharts(combined_df, df_countries, output_dir, variant)\n",
    "charts.generate_country_individual_charts()\n",
    "charts.generate_country_combined_chart()\n",
    "charts.generate_country_barplot_charts()\n",
    "charts.generate_best_model_barplots()\n",
    "charts.generate_best_model_barplots(exclude_basic=True)\n",
    "charts.generate_heatmap_mape()\n",
    "charts.generate_overall_barchart_charts()"
   ]
  },
  {
   "cell_type": "markdown",
   "metadata": {},
   "source": [
    "3. co2_per_capita"
   ]
  },
  {
   "cell_type": "code",
   "execution_count": 4,
   "metadata": {},
   "outputs": [],
   "source": [
    "variant = 'co2_per_capita'\n",
    "combined_csv_path = os.path.join(config.predictions, f'combined_results_{variant}.csv')\n",
    "combined_df = pd.read_csv(combined_csv_path)\n",
    "\n",
    "output_dir = os.path.join(config.predictions, variant)\n",
    "charts = GlobalModelCharts(combined_df, df_countries, output_dir, variant)\n",
    "charts.generate_country_individual_charts()\n",
    "charts.generate_country_combined_chart()\n",
    "charts.generate_country_barplot_charts()\n",
    "charts.generate_best_model_barplots()\n",
    "charts.generate_best_model_barplots(exclude_basic=True)\n",
    "charts.generate_heatmap_mape()\n",
    "charts.generate_overall_barchart_charts()"
   ]
  },
  {
   "cell_type": "markdown",
   "metadata": {},
   "source": [
    "4. co2 vs co2_per_capita"
   ]
  },
  {
   "cell_type": "code",
   "execution_count": 5,
   "metadata": {},
   "outputs": [],
   "source": [
    "variants_charts = GlobalModelVariantsComparisonCharts(df_countries, config.predictions)\n",
    "variants_charts.generate_boxplot_metric()"
   ]
  }
 ],
 "metadata": {
  "kernelspec": {
   "display_name": "thesis",
   "language": "python",
   "name": "python3"
  },
  "language_info": {
   "codemirror_mode": {
    "name": "ipython",
    "version": 3
   },
   "file_extension": ".py",
   "mimetype": "text/x-python",
   "name": "python",
   "nbconvert_exporter": "python",
   "pygments_lexer": "ipython3",
   "version": "3.9.15"
  }
 },
 "nbformat": 4,
 "nbformat_minor": 2
}
