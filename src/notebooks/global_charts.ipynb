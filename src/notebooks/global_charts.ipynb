{
 "cells": [
  {
   "cell_type": "code",
   "execution_count": 1,
   "metadata": {},
   "outputs": [],
   "source": [
    "import os\n",
    "import pandas as pd\n",
    "\n",
    "from src.visualization.charts import GlobalModelCharts\n",
    "from src.config import Config"
   ]
  },
  {
   "cell_type": "markdown",
   "metadata": {},
   "source": [
    "1. For comparison"
   ]
  },
  {
   "cell_type": "code",
   "execution_count": 2,
   "metadata": {},
   "outputs": [],
   "source": [
    "config = Config()\n",
    "\n",
    "df_co2 = pd.read_csv(os.path.join(config.predictions, 'results_co2.csv'))\n",
    "df_co2_pc = pd.read_csv(os.path.join(config.predictions, 'results_co2_per_capita.csv'))\n",
    "\n",
    "df_co2 = df_co2.iloc[:, :-1]\n",
    "df_co2_pc = df_co2_pc.iloc[:, :-1]\n",
    "\n",
    "df_co2['MAPE'] = df_co2['MAPE'].str.rstrip('%').astype(float) / 100.0\n",
    "df_co2_pc['MAPE'] = df_co2_pc['MAPE'].str.rstrip('%').astype(float) / 100.0\n",
    "\n",
    "metrics = ['MAE', 'RMSE', 'R2']\n",
    "for col in metrics:\n",
    "    df_co2[col] = df_co2[col].astype(str).str.replace(',', '').astype(float)\n",
    "    df_co2_pc[col] = df_co2_pc[col].astype(str).str.replace(',', '').astype(float)\n",
    "\n",
    "df_co2['variant'] = 'co2'\n",
    "df_co2_pc['variant'] = 'co2_per_capita'\n",
    "\n",
    "df_merged = pd.concat([df_co2, df_co2_pc], ignore_index=True)\n"
   ]
  },
  {
   "cell_type": "markdown",
   "metadata": {},
   "source": [
    "2. co2"
   ]
  },
  {
   "cell_type": "code",
   "execution_count": 3,
   "metadata": {},
   "outputs": [],
   "source": [
    "variant = 'co2'\n",
    "combined_csv_path = os.path.join(config.predictions, f'combined_results_{variant}.csv')\n",
    "combined_df = pd.read_csv(combined_csv_path)\n",
    "\n",
    "output_dir = os.path.join(config.predictions, variant)\n",
    "charts = GlobalModelCharts(combined_df, output_dir, variant)\n",
    "charts.generate_country_individual_charts()\n",
    "charts.generate_country_combined_chart()\n",
    "charts.generate_heatmap_mape(df_merged, variant)\n",
    "charts.generate_barplot_mape(df_merged, variant)\n",
    "charts.generate_barplot_r2(df_merged, variant)\n",
    "charts.generate_best_model_barplots(df_merged, variant)"
   ]
  },
  {
   "cell_type": "markdown",
   "metadata": {},
   "source": [
    "3. co2_per_capita"
   ]
  },
  {
   "cell_type": "code",
   "execution_count": 4,
   "metadata": {},
   "outputs": [],
   "source": [
    "variant = 'co2_per_capita'\n",
    "combined_csv_path = os.path.join(config.predictions, f'combined_results_{variant}.csv')\n",
    "combined_df = pd.read_csv(combined_csv_path)\n",
    "\n",
    "output_dir = os.path.join(config.predictions, variant)\n",
    "charts = GlobalModelCharts(combined_df, output_dir, variant)\n",
    "charts.generate_country_individual_charts()\n",
    "charts.generate_country_combined_chart()\n",
    "charts.generate_heatmap_mape(df_merged, variant)\n",
    "charts.generate_barplot_mape(df_merged, variant)\n",
    "charts.generate_barplot_r2(df_merged, variant)\n",
    "charts.generate_best_model_barplots(df_merged, variant)"
   ]
  },
  {
   "cell_type": "markdown",
   "metadata": {},
   "source": [
    "4. co2 vs co2_per_capita"
   ]
  },
  {
   "cell_type": "code",
   "execution_count": 5,
   "metadata": {},
   "outputs": [],
   "source": [
    "charts.generate_boxplot_metric(df_merged,'MAE',config.predictions)\n",
    "charts.generate_boxplot_metric(df_merged,'MAPE',config.predictions)\n",
    "charts.generate_boxplot_metric(df_merged,'RMSE',config.predictions)\n",
    "charts.generate_boxplot_metric(df_merged,'R2',config.predictions)"
   ]
  }
 ],
 "metadata": {
  "kernelspec": {
   "display_name": "thesis",
   "language": "python",
   "name": "python3"
  },
  "language_info": {
   "codemirror_mode": {
    "name": "ipython",
    "version": 3
   },
   "file_extension": ".py",
   "mimetype": "text/x-python",
   "name": "python",
   "nbconvert_exporter": "python",
   "pygments_lexer": "ipython3",
   "version": "3.9.15"
  }
 },
 "nbformat": 4,
 "nbformat_minor": 2
}
