{
 "cells": [
  {
   "cell_type": "code",
   "execution_count": 1,
   "metadata": {},
   "outputs": [],
   "source": [
    "import os\n",
    "import pandas as pd\n",
    "\n",
    "from src.visualization.charts import GlobalModelCharts\n",
    "from src.config import Config"
   ]
  },
  {
   "cell_type": "markdown",
   "metadata": {},
   "source": [
    "1. Wariant co2"
   ]
  },
  {
   "cell_type": "code",
   "execution_count": 2,
   "metadata": {},
   "outputs": [],
   "source": [
    "config = Config()\n",
    "variant = 'co2'\n",
    "combined_csv_path = os.path.join(config.predictions, f'combined_results_{variant}.csv')\n",
    "combined_df = pd.read_csv(combined_csv_path)\n",
    "\n",
    "output_dir = os.path.join(config.predictions, variant)\n",
    "charts = GlobalModelCharts(combined_df, output_dir, variant)\n",
    "charts.generate_country_individual_charts()\n",
    "charts.generate_country_combined_chart()"
   ]
  },
  {
   "cell_type": "markdown",
   "metadata": {},
   "source": [
    "2. Wariant co2_per_capita"
   ]
  },
  {
   "cell_type": "code",
   "execution_count": 3,
   "metadata": {},
   "outputs": [],
   "source": [
    "config = Config()\n",
    "variant = 'co2_per_capita'\n",
    "combined_csv_path = os.path.join(config.predictions, f'combined_results_{variant}.csv')\n",
    "combined_df = pd.read_csv(combined_csv_path)\n",
    "\n",
    "output_dir = os.path.join(config.predictions, variant)\n",
    "charts = GlobalModelCharts(combined_df, output_dir, variant)\n",
    "charts.generate_country_individual_charts()\n",
    "charts.generate_country_combined_chart()"
   ]
  }
 ],
 "metadata": {
  "kernelspec": {
   "display_name": "thesis",
   "language": "python",
   "name": "python3"
  },
  "language_info": {
   "codemirror_mode": {
    "name": "ipython",
    "version": 3
   },
   "file_extension": ".py",
   "mimetype": "text/x-python",
   "name": "python",
   "nbconvert_exporter": "python",
   "pygments_lexer": "ipython3",
   "version": "3.9.15"
  }
 },
 "nbformat": 4,
 "nbformat_minor": 2
}
